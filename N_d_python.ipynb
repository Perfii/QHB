{
 "cells": [
  {
   "cell_type": "code",
   "execution_count": 132,
   "id": "f52f6bc0",
   "metadata": {},
   "outputs": [],
   "source": [
    "from math import factorial\n",
    "from scipy.special import comb\n",
    "import numpy as np\n",
    "import time\n",
    "import pandas as pd\n",
    "\n",
    "def binomial(x,y):\n",
    "    if y==0:\n",
    "        return 1.0\n",
    "    if y<0:\n",
    "        return 0.0\n",
    "    if y>0 and x<0:\n",
    "        return np.prod([x-k for k in range(y)])/factorial(y)\n",
    "    if y>0 and x>=0:\n",
    "        return comb(x,y)\n",
    "dlist=[];nlist=[];tlist=[];m=2;\n",
    "pd.DataFrame([[\"d\",\"duration\"]]).to_csv(\"time.csv\", mode='w', index=False, header=False)\n",
    "pd.DataFrame([[\"d\",\"n\"]]).to_csv(\"N_d.csv\",mode='w',index=False,header=False)\n",
    "def f(t,e,n,g):\n",
    "    return (m**(2*n)*sum([binomial(t,2*t+2*s-i-j)*binomial(n-t,s)*binomial(2*t+2*s-i-j,t+s-j)*(g-1)**(i+j-2*s-t)*g**s for s in range(n-t+1) for j in range(e+1) for i in range(e+1)])/sum([(-1)**j*g**(e-j)*binomial(t-1,j)*binomial(n-t,e-j) for j in range(0,e+1)])**2)\n",
    "limit=False\n",
    "d=1\n",
    "while(limit==False):\n",
    "    start = time.time()\n",
    "    n=d-1\n",
    "    check=False\n",
    "    while(check==False):\n",
    "        nlist=[f(t,int((d-1)/2),n,3) for t in range(0,d)]\n",
    "        if np.argmax(nlist)==0:\n",
    "            dlist.append([d,n])\n",
    "            check=True\n",
    "            end=time.time()\n",
    "            duration=end-start\n",
    "            tlist.append([d,duration])\n",
    "            dft=pd.DataFrame([[d,duration]])\n",
    "            dft.to_csv(\"time.csv\", mode='a',index=False,header=False)\n",
    "            dfd=pd.DataFrame([[d,n]])\n",
    "            dfd.to_csv(\"N_d.csv\",mode='a',index=False,header=False)\n",
    "        else:\n",
    "            n+=1\n",
    "    d+=2"
   ]
  },
  {
   "cell_type": "code",
   "execution_count": null,
   "id": "660c805b",
   "metadata": {},
   "outputs": [],
   "source": []
  }
 ],
 "metadata": {
  "kernelspec": {
   "display_name": "Python 3 (ipykernel)",
   "language": "python",
   "name": "python3"
  },
  "language_info": {
   "codemirror_mode": {
    "name": "ipython",
    "version": 3
   },
   "file_extension": ".py",
   "mimetype": "text/x-python",
   "name": "python",
   "nbconvert_exporter": "python",
   "pygments_lexer": "ipython3",
   "version": "3.10.2"
  }
 },
 "nbformat": 4,
 "nbformat_minor": 5
}

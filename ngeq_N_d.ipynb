{
 "cells": [
  {
   "cell_type": "code",
   "execution_count": 2,
   "id": "f52f6bc0",
   "metadata": {},
   "outputs": [
    {
     "name": "stderr",
     "output_type": "stream",
     "text": [
      "C:\\Users\\andre\\AppData\\Local\\Temp\\ipykernel_26788\\3555064678.py:20: RuntimeWarning: overflow encountered in multiply\n",
      "  return (m**(2*n)*sum([binomial(t,2*t+2*s-i-j)*binomial(n-t,s)*binomial(2*t+2*s-i-j,t+s-j)*(g-1)**(i+j-2*s-t)*g**s for s in range(n-t+1) for j in range(e+1) for i in range(e+1)])/sum([(-1)**j*g**(e-j)*binomial(t-1,j)*binomial(n-t,e-j) for j in range(0,e+1)])**2)\n"
     ]
    }
   ],
   "source": [
    "from math import factorial\n",
    "from scipy.special import comb\n",
    "import numpy as np\n",
    "import time\n",
    "import pandas as pd\n",
    "\n",
    "def binomial(x,y):\n",
    "    if y==0:\n",
    "        return 1.0\n",
    "    if y<0:\n",
    "        return 0.0\n",
    "    if y>0 and x<0:\n",
    "        return np.prod([x-k for k in range(y)])/factorial(y)\n",
    "    if y>0 and x>=0:\n",
    "        return comb(x,y)\n",
    "ndlist=[];nviollist=[];nlist=[];tlist=[];m=2;dd=1;d0=15;\n",
    "pd.DataFrame([[\"d\",\"duration\"]]).to_csv(\"time.csv\", mode='w', index=False, header=False)\n",
    "pd.DataFrame([[\"d\",\"n\"]]).to_csv(\"N_d.csv\",mode='w',index=False,header=False)\n",
    "def f(t,e,n,g):\n",
    "    return (m**(2*n)*sum([binomial(t,2*t+2*s-i-j)*binomial(n-t,s)*binomial(2*t+2*s-i-j,t+s-j)*(g-1)**(i+j-2*s-t)*g**s for s in range(n-t+1) for j in range(e+1) for i in range(e+1)])/sum([(-1)**j*g**(e-j)*binomial(t-1,j)*binomial(n-t,e-j) for j in range(0,e+1)])**2)\n",
    "ndlist.extend((0,5,9,14,20,25,30,35,40,46,51,56,62,67,73,78,84,89,95,99,106,110,116,121,127,131,137,142,148,152,158,163,169,173,179,185,190,196,200,206,211,217,221))\n",
    "\n",
    "nm=500\n",
    "for d in range(1,86,2):\n",
    "    for n in range(ndlist(d),nm,1):\n",
    "        start = time.time()\n",
    "        nlist=[f(t,int((d-1)/2),n,3) for t in range(0,d)]\n",
    "        if np.argmax(nlist)!=0:\n",
    "            nviollist.append([d,n])\n",
    "            end=time.time()\n",
    "            duration=end-start\n",
    "            dfd=pd.DataFrame([[d,n]])\n",
    "            dfd.to_csv(\"nm.csv\",mode='a',index=False,header=False)\n",
    "            dft=pd.DataFrame([[d,duration]])\n",
    "            dft.to_csv(\"time_nm.csv\", mode='a',index=False,header=False)\n",
    "            break\n",
    "        end=time.time()\n",
    "        duration=end-start\n",
    "        dft=pd.DataFrame([[d,duration]])\n",
    "        dft.to_csv(\"time_nm.csv\", mode='a',index=False,header=False)\n",
    "\n",
    "    "
   ]
  },
  {
   "cell_type": "code",
   "execution_count": null,
   "id": "7a04d2dd",
   "metadata": {},
   "outputs": [],
   "source": []
  }
 ],
 "metadata": {
  "kernelspec": {
   "display_name": "Python 3 (ipykernel)",
   "language": "python",
   "name": "python3"
  },
  "language_info": {
   "codemirror_mode": {
    "name": "ipython",
    "version": 3
   },
   "file_extension": ".py",
   "mimetype": "text/x-python",
   "name": "python",
   "nbconvert_exporter": "python",
   "pygments_lexer": "ipython3",
   "version": "3.10.2"
  }
 },
 "nbformat": 4,
 "nbformat_minor": 5
}
